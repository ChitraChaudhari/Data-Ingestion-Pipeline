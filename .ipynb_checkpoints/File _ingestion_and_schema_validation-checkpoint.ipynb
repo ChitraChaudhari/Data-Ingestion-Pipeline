{
 "cells": [
  {
   "cell_type": "markdown",
   "id": "3dddf720",
   "metadata": {},
   "source": [
    "# File ingestion and schema validation\n",
    "\n",
    "## Task:\n",
    "- Take any csv/text file of 2+ GB of your choice. --- (You can do this assignment on Google colab)\n",
    "- Read the file ( Present approach of reading the file )\n",
    "- Try different methods of file reading eg: Dask, Modin, Ray, pandas and present your findings in term of computational efficiency\n",
    "- Perform basic validation on data columns : eg: remove special character , white spaces from the col name\n",
    "- As you already know the schema hence create a YAML file and write the column name in YAML file. --define separator of read and write file, column name in YAML\n",
    "- Validate number of columns and column name of ingested file with YAML.\n",
    "- Write the file in pipe separated text file (|) in gz format.\n",
    "- Create a summary of the file:\n",
    "    - Total number of rows,\n",
    "    - total number of columns\n",
    "    - file size"
   ]
  },
  {
   "cell_type": "markdown",
   "id": "e3dc29de",
   "metadata": {},
   "source": [
    "# Read the data file"
   ]
  },
  {
   "cell_type": "code",
   "execution_count": 1,
   "id": "fb4cfe31",
   "metadata": {},
   "outputs": [],
   "source": [
    "import os\n",
    "import time"
   ]
  },
  {
   "cell_type": "code",
   "execution_count": 2,
   "id": "a6bc4341",
   "metadata": {},
   "outputs": [
    {
     "name": "stdout",
     "output_type": "stream",
     "text": [
      "size of the data file : 2859504349\n"
     ]
    }
   ],
   "source": [
    "# get the size of data file\n",
    "size = os.path.getsize(\"C:/Users/chitr/Documents/DataGlacier/Data/Books_rating.csv\")\n",
    "print(f\"size of the data file : {size}\")"
   ]
  },
  {
   "cell_type": "markdown",
   "id": "a46cb6d3",
   "metadata": {},
   "source": [
    "## Read the data with Pandas"
   ]
  },
  {
   "cell_type": "code",
   "execution_count": 3,
   "id": "c39ee1e2",
   "metadata": {},
   "outputs": [
    {
     "name": "stdout",
     "output_type": "stream",
     "text": [
      "Read csv with pandas:  35.40927815437317 sec\n"
     ]
    }
   ],
   "source": [
    "import pandas as pd\n",
    "start = time.time()\n",
    "df = pd.read_csv('C:/Users/chitr/Documents/DataGlacier/Data/Books_rating.csv')\n",
    "end = time.time()\n",
    "print(\"Read csv with pandas: \",(end-start),\"sec\")"
   ]
  },
  {
   "cell_type": "markdown",
   "id": "593c78d2",
   "metadata": {},
   "source": [
    "## Read the data with Dask"
   ]
  },
  {
   "cell_type": "code",
   "execution_count": 4,
   "id": "53dfbdc6",
   "metadata": {},
   "outputs": [
    {
     "name": "stdout",
     "output_type": "stream",
     "text": [
      "Read csv with dask:  0.8652992248535156 sec\n"
     ]
    }
   ],
   "source": [
    "import dask.dataframe as dd\n",
    "start = time.time()\n",
    "df = dd.read_csv('C:/Users/chitr/Documents/DataGlacier/Data/Books_rating.csv')\n",
    "end = time.time()\n",
    "print(\"Read csv with dask: \",(end-start),\"sec\")"
   ]
  },
  {
   "cell_type": "markdown",
   "id": "9d39b5f9",
   "metadata": {},
   "source": [
    "## Read the data with Modin and Ray"
   ]
  },
  {
   "cell_type": "code",
   "execution_count": 5,
   "id": "f55d00f1",
   "metadata": {},
   "outputs": [
    {
     "name": "stderr",
     "output_type": "stream",
     "text": [
      "2023-02-06 10:27:23,369\tINFO worker.py:1529 -- Started a local Ray instance. View the dashboard at \u001b[1m\u001b[32m127.0.0.1:8266 \u001b[39m\u001b[22m\n",
      "UserWarning: When using a pre-initialized Ray cluster, please ensure that the runtime env sets environment variable __MODIN_AUTOIMPORT_PANDAS__ to 1\n"
     ]
    },
    {
     "name": "stdout",
     "output_type": "stream",
     "text": [
      "Read csv with modin and ray:  61.704468965530396 sec\n"
     ]
    }
   ],
   "source": [
    "import modin.pandas as pd\n",
    "import ray\n",
    "ray.shutdown()\n",
    "ray.init()\n",
    "start = time.time()\n",
    "df = pd.read_csv('C:/Users/chitr/Documents/DataGlacier/Data/Books_rating.csv')\n",
    "end = time.time()\n",
    "print(\"Read csv with modin and ray: \",(end-start),\"sec\")"
   ]
  },
  {
   "cell_type": "markdown",
   "id": "c1b9718a",
   "metadata": {},
   "source": [
    "## Read the data with Vaex"
   ]
  },
  {
   "cell_type": "code",
   "execution_count": 6,
   "id": "7fa14b03",
   "metadata": {},
   "outputs": [
    {
     "name": "stdout",
     "output_type": "stream",
     "text": [
      "Read csv with vaex:  6.6056108474731445 sec\n"
     ]
    }
   ],
   "source": [
    "import vaex\n",
    "start = time.time()\n",
    "df = vaex.open('C:/Users/chitr/Documents/DataGlacier/Data/Books_rating.csv')\n",
    "end = time.time()\n",
    "print(\"Read csv with vaex: \",(end-start),\"sec\")"
   ]
  },
  {
   "cell_type": "markdown",
   "id": "66bca6c1",
   "metadata": {},
   "source": [
    "## Here Dask is better than Pandas, Modin and Ray, Vaex with the least reading time of aprroximate 0.87 sec"
   ]
  },
  {
   "cell_type": "code",
   "execution_count": 7,
   "id": "7a510010",
   "metadata": {},
   "outputs": [],
   "source": [
    "import dask.dataframe as dd\n",
    "df = dd.read_csv('C:/Users/chitr/Documents/DataGlacier/Data/Books_rating.csv', delimiter = ',')"
   ]
  },
  {
   "cell_type": "code",
   "execution_count": 8,
   "id": "921a6034",
   "metadata": {},
   "outputs": [
    {
     "name": "stdout",
     "output_type": "stream",
     "text": [
      "<class 'dask.dataframe.core.DataFrame'>\n",
      "Columns: 10 entries, Id to review/text\n",
      "dtypes: object(6), float64(2), int64(2)"
     ]
    }
   ],
   "source": [
    "df.info()"
   ]
  },
  {
   "cell_type": "code",
   "execution_count": 11,
   "id": "a6984b85",
   "metadata": {},
   "outputs": [
    {
     "name": "stdout",
     "output_type": "stream",
     "text": [
      "Number of columns :  10\n"
     ]
    }
   ],
   "source": [
    "print(\"Number of columns : \", len(df.columns))"
   ]
  },
  {
   "cell_type": "code",
   "execution_count": 15,
   "id": "98befb0a",
   "metadata": {},
   "outputs": [
    {
     "data": {
      "text/plain": [
       "Index(['Id', 'Title', 'Price', 'User_id', 'profileName', 'review/helpfulness',\n",
       "       'review/score', 'review/time', 'review/summary', 'review/text'],\n",
       "      dtype='object')"
      ]
     },
     "execution_count": 15,
     "metadata": {},
     "output_type": "execute_result"
    }
   ],
   "source": [
    "df.columns"
   ]
  },
  {
   "cell_type": "code",
   "execution_count": 20,
   "id": "ad6de301",
   "metadata": {},
   "outputs": [
    {
     "name": "stderr",
     "output_type": "stream",
     "text": [
      "FutureWarning: The default value of regex will change from True to False in a future version.\n"
     ]
    },
    {
     "data": {
      "text/plain": [
       "Index(['Id', 'Title', 'Price', 'Userid', 'profileName', 'reviewhelpfulness',\n",
       "       'reviewscore', 'reviewtime', 'reviewsummary', 'reviewtext'],\n",
       "      dtype='object')"
      ]
     },
     "execution_count": 20,
     "metadata": {},
     "output_type": "execute_result"
    }
   ],
   "source": [
    "df.columns = df.columns.str.replace('[ ,/,&,#,@,_,-]','')\n",
    "df.columns"
   ]
  },
  {
   "cell_type": "code",
   "execution_count": 21,
   "id": "b3e8a687",
   "metadata": {},
   "outputs": [
    {
     "ename": "AttributeError",
     "evalue": "'StringMethods' object has no attribute 'tolower'",
     "output_type": "error",
     "traceback": [
      "\u001b[1;31m---------------------------------------------------------------------------\u001b[0m",
      "\u001b[1;31mAttributeError\u001b[0m                            Traceback (most recent call last)",
      "Input \u001b[1;32mIn [21]\u001b[0m, in \u001b[0;36m<cell line: 1>\u001b[1;34m()\u001b[0m\n\u001b[1;32m----> 1\u001b[0m df\u001b[38;5;241m.\u001b[39mcolumns \u001b[38;5;241m=\u001b[39m \u001b[43mdf\u001b[49m\u001b[38;5;241;43m.\u001b[39;49m\u001b[43mcolumns\u001b[49m\u001b[38;5;241;43m.\u001b[39;49m\u001b[43mstr\u001b[49m\u001b[38;5;241;43m.\u001b[39;49m\u001b[43mtolower\u001b[49m()\n\u001b[0;32m      2\u001b[0m df\u001b[38;5;241m.\u001b[39mcolumns\n",
      "\u001b[1;31mAttributeError\u001b[0m: 'StringMethods' object has no attribute 'tolower'"
     ]
    }
   ],
   "source": [
    "df.columns = df.columns.str.lower()\n",
    "df.columns"
   ]
  },
  {
   "cell_type": "code",
   "execution_count": null,
   "id": "bd4a9a20",
   "metadata": {},
   "outputs": [],
   "source": []
  },
  {
   "cell_type": "code",
   "execution_count": null,
   "id": "b7ab15ee",
   "metadata": {},
   "outputs": [],
   "source": []
  },
  {
   "cell_type": "code",
   "execution_count": null,
   "id": "1e38e530",
   "metadata": {},
   "outputs": [],
   "source": []
  },
  {
   "cell_type": "code",
   "execution_count": null,
   "id": "cf0e2652",
   "metadata": {},
   "outputs": [],
   "source": []
  }
 ],
 "metadata": {
  "kernelspec": {
   "display_name": "Python 3 (ipykernel)",
   "language": "python",
   "name": "python3"
  },
  "language_info": {
   "codemirror_mode": {
    "name": "ipython",
    "version": 3
   },
   "file_extension": ".py",
   "mimetype": "text/x-python",
   "name": "python",
   "nbconvert_exporter": "python",
   "pygments_lexer": "ipython3",
   "version": "3.9.12"
  }
 },
 "nbformat": 4,
 "nbformat_minor": 5
}
